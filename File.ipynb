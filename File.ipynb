{
 "cells": [
  {
   "cell_type": "code",
   "execution_count": 33,
   "metadata": {},
   "outputs": [],
   "source": [
    "import numpy as np\n",
    "import math"
   ]
  },
  {
   "attachments": {},
   "cell_type": "markdown",
   "metadata": {},
   "source": [
    "#### Masters theorem (Divide  and conquer recurrences)\n",
    "\n",
    "$$ T(n) = aT(\\frac{n}{b}) + f(n) $$\n",
    "where $a \\ge 1$, $b > 1$ and $f(n) = \\Theta(n^k \\log^p(n))$\n",
    "\n",
    "Calculate $log_b(a)$, $k$ and $p$.\n",
    "\n",
    "1. if $log_b(a) > k$ then $\\Theta(n^{\\log_b a})$\n",
    "2. if $log_b(a) = k$ then\n",
    "    1. if $p > -1$ : $\\Theta(n^k \\log^{p+1}n)$\n",
    "    2. if $p = -1$ : $\\Theta(n^k \\log (\\log n))$\n",
    "    3. if $p < -1$ : $\\Theta(n^k)$\n",
    "3. if $log_b(a) < k$ then\n",
    "    1. if $p \\ge 0$ : $\\Theta(n^k \\log^{p}n)$\n",
    "    2. if $p < 0$ : $\\Theta(n^k)$"
   ]
  },
  {
   "cell_type": "code",
   "execution_count": 51,
   "metadata": {},
   "outputs": [
    {
     "name": "stdout",
     "output_type": "stream",
     "text": [
      "logba = 2.0\n",
      "Θ (n ^ 2.0)\n"
     ]
    }
   ],
   "source": [
    "a = 16\n",
    "b = 4\n",
    "k = 0\n",
    "p = 1\n",
    "\n",
    "logba = math.log(a, b)\n",
    "print(f\"{logba = }\")\n",
    "if logba > k:\n",
    "    print(f\"Θ (n ^ {logba})\")\n",
    "elif logba == k:\n",
    "    if p > -1:\n",
    "        print(f\"Θ (n ^ {k} log ^ {p+1} (n))\")\n",
    "    elif p == -1:\n",
    "        print(f\"Θ (n ^ {k} log log(n))\")\n",
    "    elif p < -1:\n",
    "        print(f\"Θ (n ^ {k})\")\n",
    "elif logba < k:\n",
    "    if p >= 0:\n",
    "        print(f\"Θ (n ^ {k} log ^ {p} (n))\")\n",
    "    elif p < 0:\n",
    "        print(f\"Θ (n ^ {k}\")"
   ]
  },
  {
   "attachments": {},
   "cell_type": "markdown",
   "metadata": {},
   "source": [
    "#### Masters theorem (Subtract  and conquer recurrences)\n",
    "\n",
    "$$ T(n) = \\left\\{ \n",
    "  \\begin{array}{ c l }\n",
    "    c               & \\quad \\textrm{if } n \\le 1 \\\\\n",
    "    aT(n-b) + f(n)  & \\quad \\textrm{if } n > 1\n",
    "  \\end{array}\n",
    "\\right.$$\n",
    "\n",
    "where $c, a > 0$, $b \\ge 0$, $k \\ge 0$  and $f(n) = \\Theta(n^k)$\n",
    "\n",
    "Calculate $log_b(a)$, $k$ and $p$.\n",
    "\n",
    " 1. if $a < 1$ : $\\Theta(n^k)$\n",
    " 2. if $a = 1$ : $\\Theta(n^{k+1})$\n",
    " 3. if $a > 1$ : $\\Theta(n^k a^{\\frac{n}{b}})$"
   ]
  },
  {
   "cell_type": "code",
   "execution_count": 65,
   "metadata": {},
   "outputs": [
    {
     "name": "stdout",
     "output_type": "stream",
     "text": [
      "Θ (n ^ 0 . 16 ^ (n/4) )\n"
     ]
    }
   ],
   "source": [
    "a = 16\n",
    "b = 4\n",
    "k = 0\n",
    "\n",
    "if a > 1:\n",
    "    print(f\"Θ (n ^ {k} . {a} ^ (n/{b}) )\")\n",
    "elif p == 1:\n",
    "    print(f\"Θ (n ^ {k+1})\")\n",
    "elif p < 1:\n",
    "    print(f\"Θ (n ^ {k})\")"
   ]
  },
  {
   "cell_type": "code",
   "execution_count": null,
   "metadata": {},
   "outputs": [],
   "source": []
  }
 ],
 "metadata": {
  "kernelspec": {
   "display_name": "Python 3.11.0 64-bit",
   "language": "python",
   "name": "python3"
  },
  "language_info": {
   "codemirror_mode": {
    "name": "ipython",
    "version": 3
   },
   "file_extension": ".py",
   "mimetype": "text/x-python",
   "name": "python",
   "nbconvert_exporter": "python",
   "pygments_lexer": "ipython3",
   "version": "3.11.0"
  },
  "orig_nbformat": 4,
  "vscode": {
   "interpreter": {
    "hash": "c8105f61bdc7e1208be5d7940ad7a7c698230a8c816b38c0d2afdb4a1acf2880"
   }
  }
 },
 "nbformat": 4,
 "nbformat_minor": 2
}
