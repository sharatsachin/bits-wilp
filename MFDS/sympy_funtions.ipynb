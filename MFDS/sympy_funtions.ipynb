{
 "cells": [
  {
   "cell_type": "code",
   "execution_count": 1,
   "metadata": {},
   "outputs": [],
   "source": [
    "# !pip install sympy"
   ]
  },
  {
   "cell_type": "code",
   "execution_count": 2,
   "metadata": {},
   "outputs": [],
   "source": [
    "import numpy as np"
   ]
  },
  {
   "cell_type": "code",
   "execution_count": 3,
   "metadata": {},
   "outputs": [],
   "source": [
    "from sympy import *\n",
    "init_printing(use_unicode=True)"
   ]
  },
  {
   "cell_type": "markdown",
   "metadata": {},
   "source": [
    "### Numpy? "
   ]
  },
  {
   "cell_type": "code",
   "execution_count": 4,
   "metadata": {},
   "outputs": [
    {
     "data": {
      "text/plain": [
       "(array([[0.89459304, 0.35219112, 0.8320374 ],\n",
       "        [0.11395178, 0.49933429, 0.25035773],\n",
       "        [0.28569373, 0.47733318, 0.69070499]]),\n",
       " array([[0.98353869],\n",
       "        [0.43350057],\n",
       "        [0.94394047]]),\n",
       " array([[-0.16352885],\n",
       "        [ 0.28516338],\n",
       "        [ 1.23720213]]))"
      ]
     },
     "execution_count": 4,
     "metadata": {},
     "output_type": "execute_result"
    }
   ],
   "source": [
    "A = np.random.rand(3, 3)\n",
    "b = np.random.rand(3, 1)\n",
    "A, b, np.linalg.inv(A) @ b"
   ]
  },
  {
   "cell_type": "markdown",
   "metadata": {},
   "source": [
    "### Sympy - Getting RREF form"
   ]
  },
  {
   "cell_type": "code",
   "execution_count": 5,
   "metadata": {},
   "outputs": [
    {
     "data": {
      "text/latex": [
       "$\\displaystyle \\left( \\left[\\begin{matrix}10 & 8 & 3 & 1\\\\8 & 8 & 2 & 2\\end{matrix}\\right], \\  \\left( \\left[\\begin{matrix}1 & 0 & \\frac{1}{2} & - \\frac{1}{2}\\\\0 & 1 & - \\frac{1}{4} & \\frac{3}{4}\\end{matrix}\\right], \\  \\left( 0, \\  1\\right)\\right)\\right)$"
      ],
      "text/plain": [
       "⎛⎡10  8  3  1⎤  ⎛⎡1  0  1/2   -1/2⎤        ⎞⎞\n",
       "⎜⎢           ⎥, ⎜⎢                ⎥, (0, 1)⎟⎟\n",
       "⎝⎣8   8  2  2⎦  ⎝⎣0  1  -1/4  3/4 ⎦        ⎠⎠"
      ]
     },
     "execution_count": 5,
     "metadata": {},
     "output_type": "execute_result"
    }
   ],
   "source": [
    "M1 = Matrix([[10, 8, 3, 1], \n",
    "            [8, 8, 2, 2]])\n",
    "M1, M1.rref()"
   ]
  },
  {
   "cell_type": "markdown",
   "metadata": {},
   "source": [
    "#### Finding rank of a matrix"
   ]
  },
  {
   "cell_type": "code",
   "execution_count": 6,
   "metadata": {},
   "outputs": [
    {
     "data": {
      "text/latex": [
       "$\\displaystyle 2$"
      ],
      "text/plain": [
       "2"
      ]
     },
     "execution_count": 6,
     "metadata": {},
     "output_type": "execute_result"
    }
   ],
   "source": [
    "M1.rank()"
   ]
  },
  {
   "cell_type": "markdown",
   "metadata": {},
   "source": [
    "### Inverse of matrix using Gaussian elimination"
   ]
  },
  {
   "cell_type": "markdown",
   "metadata": {},
   "source": [
    "Confirmation that right side of augmented matrix is inverse, [A | I] => [I | A^-1]"
   ]
  },
  {
   "cell_type": "code",
   "execution_count": 7,
   "metadata": {},
   "outputs": [
    {
     "data": {
      "text/latex": [
       "$\\displaystyle \\left( \\left[\\begin{matrix}10 & 8 & 1 & 0\\\\8 & 8 & 0 & 1\\end{matrix}\\right], \\  \\left( \\left[\\begin{matrix}1 & 0 & \\frac{1}{2} & - \\frac{1}{2}\\\\0 & 1 & - \\frac{1}{2} & \\frac{5}{8}\\end{matrix}\\right], \\  \\left( 0, \\  1\\right)\\right)\\right)$"
      ],
      "text/plain": [
       "⎛⎡10  8  1  0⎤  ⎛⎡1  0  1/2   -1/2⎤        ⎞⎞\n",
       "⎜⎢           ⎥, ⎜⎢                ⎥, (0, 1)⎟⎟\n",
       "⎝⎣8   8  0  1⎦  ⎝⎣0  1  -1/2  5/8 ⎦        ⎠⎠"
      ]
     },
     "execution_count": 7,
     "metadata": {},
     "output_type": "execute_result"
    }
   ],
   "source": [
    "M2 = Matrix([[10, 8, 1, 0], \n",
    "            [8, 8, 0, 1]])\n",
    "M2, M2.rref()"
   ]
  },
  {
   "cell_type": "code",
   "execution_count": 8,
   "metadata": {},
   "outputs": [
    {
     "data": {
      "text/latex": [
       "$\\displaystyle \\left( \\left[\\begin{matrix}10 & 8\\\\8 & 8\\end{matrix}\\right], \\  \\left[\\begin{matrix}\\frac{1}{2} & - \\frac{1}{2}\\\\- \\frac{1}{2} & \\frac{5}{8}\\end{matrix}\\right]\\right)$"
      ],
      "text/plain": [
       "⎛⎡10  8⎤  ⎡1/2   -1/2⎤⎞\n",
       "⎜⎢     ⎥, ⎢          ⎥⎟\n",
       "⎝⎣8   8⎦  ⎣-1/2  5/8 ⎦⎠"
      ]
     },
     "execution_count": 8,
     "metadata": {},
     "output_type": "execute_result"
    }
   ],
   "source": [
    "M3 = Matrix([[10, 8], \n",
    "            [8, 8]])\n",
    "M3, M3.inv()"
   ]
  },
  {
   "cell_type": "markdown",
   "metadata": {},
   "source": [
    "### Norm of a vector"
   ]
  },
  {
   "cell_type": "code",
   "execution_count": 9,
   "metadata": {},
   "outputs": [
    {
     "data": {
      "text/latex": [
       "$\\displaystyle \\left( \\left[\\begin{matrix}2\\\\3\\\\5\\end{matrix}\\right], \\  \\sqrt{38}\\right)$"
      ],
      "text/plain": [
       "⎛⎡2⎤     ⎞\n",
       "⎜⎢ ⎥     ⎟\n",
       "⎜⎢3⎥, √38⎟\n",
       "⎜⎢ ⎥     ⎟\n",
       "⎝⎣5⎦     ⎠"
      ]
     },
     "execution_count": 9,
     "metadata": {},
     "output_type": "execute_result"
    }
   ],
   "source": [
    "M4 = Matrix([[2], [3], [5]])\n",
    "M4, M4.norm() # Frobenius norm / Euclidean norm / L2 norm"
   ]
  },
  {
   "cell_type": "code",
   "execution_count": 10,
   "metadata": {},
   "outputs": [
    {
     "data": {
      "text/latex": [
       "$\\displaystyle \\left( \\left[\\begin{matrix}2\\\\3\\\\5\\end{matrix}\\right], \\  \\sqrt{38}\\right)$"
      ],
      "text/plain": [
       "⎛⎡2⎤     ⎞\n",
       "⎜⎢ ⎥     ⎟\n",
       "⎜⎢3⎥, √38⎟\n",
       "⎜⎢ ⎥     ⎟\n",
       "⎝⎣5⎦     ⎠"
      ]
     },
     "execution_count": 10,
     "metadata": {},
     "output_type": "execute_result"
    }
   ],
   "source": [
    "M5 = Matrix([2, 3, 5])\n",
    "M5, M5.norm() # Frobenius norm / Euclidean norm / L2 norm"
   ]
  },
  {
   "cell_type": "code",
   "execution_count": 11,
   "metadata": {},
   "outputs": [
    {
     "data": {
      "text/latex": [
       "$\\displaystyle \\left( \\left[\\begin{matrix}1\\\\2\\\\3\\end{matrix}\\right], \\  \\left[\\begin{matrix}1\\\\1\\\\1\\end{matrix}\\right], \\  6\\right)$"
      ],
      "text/plain": [
       "⎛⎡1⎤  ⎡1⎤   ⎞\n",
       "⎜⎢ ⎥  ⎢ ⎥   ⎟\n",
       "⎜⎢2⎥, ⎢1⎥, 6⎟\n",
       "⎜⎢ ⎥  ⎢ ⎥   ⎟\n",
       "⎝⎣3⎦  ⎣1⎦   ⎠"
      ]
     },
     "execution_count": 11,
     "metadata": {},
     "output_type": "execute_result"
    }
   ],
   "source": [
    "### Dot product (dot product for A=I)\n",
    "M6 = Matrix([1, 2, 3])\n",
    "M7 = Matrix([1, 1, 1])\n",
    "M6, M7, M6.dot(M7)"
   ]
  },
  {
   "cell_type": "markdown",
   "metadata": {},
   "source": [
    "### Gram-Schmidt orthogonalization"
   ]
  },
  {
   "cell_type": "code",
   "execution_count": 12,
   "metadata": {},
   "outputs": [
    {
     "data": {
      "text/latex": [
       "$\\displaystyle \\left( \\left[ \\left[\\begin{matrix}3\\\\2\\end{matrix}\\right], \\  \\left[\\begin{matrix}1\\\\2\\end{matrix}\\right]\\right], \\  \\left[ \\left[\\begin{matrix}3\\\\2\\end{matrix}\\right], \\  \\left[\\begin{matrix}- \\frac{8}{13}\\\\\\frac{12}{13}\\end{matrix}\\right]\\right], \\  \\left[ \\left[\\begin{matrix}\\frac{3 \\sqrt{13}}{13}\\\\\\frac{2 \\sqrt{13}}{13}\\end{matrix}\\right], \\  \\left[\\begin{matrix}- \\frac{2 \\sqrt{13}}{13}\\\\\\frac{3 \\sqrt{13}}{13}\\end{matrix}\\right]\\right]\\right)$"
      ],
      "text/plain": [
       "⎛                            ⎡⎡3⋅√13⎤  ⎡-2⋅√13 ⎤⎤⎞\n",
       "⎜            ⎡     ⎡-8/13⎤⎤  ⎢⎢─────⎥  ⎢───────⎥⎥⎟\n",
       "⎜⎡⎡3⎤  ⎡1⎤⎤  ⎢⎡3⎤  ⎢     ⎥⎥  ⎢⎢  13 ⎥  ⎢   13  ⎥⎥⎟\n",
       "⎜⎢⎢ ⎥, ⎢ ⎥⎥, ⎢⎢ ⎥, ⎢ 12  ⎥⎥, ⎢⎢     ⎥, ⎢       ⎥⎥⎟\n",
       "⎜⎣⎣2⎦  ⎣2⎦⎦  ⎢⎣2⎦  ⎢ ──  ⎥⎥  ⎢⎢2⋅√13⎥  ⎢ 3⋅√13 ⎥⎥⎟\n",
       "⎜            ⎣     ⎣ 13  ⎦⎦  ⎢⎢─────⎥  ⎢ ───── ⎥⎥⎟\n",
       "⎝                            ⎣⎣  13 ⎦  ⎣   13  ⎦⎦⎠"
      ]
     },
     "execution_count": 12,
     "metadata": {},
     "output_type": "execute_result"
    }
   ],
   "source": [
    "M8 = [Matrix([3, 2]), Matrix([1,2])]\n",
    "M8, GramSchmidt(M8), GramSchmidt(M8, True)"
   ]
  },
  {
   "cell_type": "markdown",
   "metadata": {},
   "source": [
    "### Determinant"
   ]
  },
  {
   "cell_type": "code",
   "execution_count": 13,
   "metadata": {},
   "outputs": [
    {
     "data": {
      "text/latex": [
       "$\\displaystyle \\left( \\left[\\begin{matrix}1 & 1 & 3\\\\3 & 4 & 5\\\\5 & 3 & 4\\end{matrix}\\right], \\  -19\\right)$"
      ],
      "text/plain": [
       "⎛⎡1  1  3⎤     ⎞\n",
       "⎜⎢       ⎥     ⎟\n",
       "⎜⎢3  4  5⎥, -19⎟\n",
       "⎜⎢       ⎥     ⎟\n",
       "⎝⎣5  3  4⎦     ⎠"
      ]
     },
     "execution_count": 13,
     "metadata": {},
     "output_type": "execute_result"
    }
   ],
   "source": [
    "M9 = Matrix([[1, 1, 3], [3, 4, 5], [5, 3, 4]])\n",
    "M9, M9.det()"
   ]
  },
  {
   "cell_type": "markdown",
   "metadata": {},
   "source": [
    "### Trace"
   ]
  },
  {
   "cell_type": "code",
   "execution_count": 14,
   "metadata": {},
   "outputs": [
    {
     "data": {
      "text/latex": [
       "$\\displaystyle \\left( \\left[\\begin{matrix}1 & 1 & 3\\\\3 & 4 & 5\\\\5 & 3 & 4\\end{matrix}\\right], \\  9\\right)$"
      ],
      "text/plain": [
       "⎛⎡1  1  3⎤   ⎞\n",
       "⎜⎢       ⎥   ⎟\n",
       "⎜⎢3  4  5⎥, 9⎟\n",
       "⎜⎢       ⎥   ⎟\n",
       "⎝⎣5  3  4⎦   ⎠"
      ]
     },
     "execution_count": 14,
     "metadata": {},
     "output_type": "execute_result"
    }
   ],
   "source": [
    "M9, M9.trace() # sum of diagonals"
   ]
  },
  {
   "cell_type": "markdown",
   "metadata": {},
   "source": [
    "### Minor and cofactor, adjugate"
   ]
  },
  {
   "cell_type": "code",
   "execution_count": 15,
   "metadata": {},
   "outputs": [
    {
     "data": {
      "text/latex": [
       "$\\displaystyle \\left( \\left[\\begin{matrix}4 & 5\\\\3 & 4\\end{matrix}\\right], \\  1, \\  1\\right)$"
      ],
      "text/plain": [
       "⎛⎡4  5⎤      ⎞\n",
       "⎜⎢    ⎥, 1, 1⎟\n",
       "⎝⎣3  4⎦      ⎠"
      ]
     },
     "execution_count": 15,
     "metadata": {},
     "output_type": "execute_result"
    }
   ],
   "source": [
    "M9.minor_submatrix(0, 0), M9.minor(0, 0), M9.cofactor(0, 0) # 1st row and 1st column"
   ]
  },
  {
   "cell_type": "code",
   "execution_count": 16,
   "metadata": {},
   "outputs": [
    {
     "data": {
      "text/latex": [
       "$\\displaystyle \\left( \\left[\\begin{matrix}3 & 5\\\\5 & 4\\end{matrix}\\right], \\  -13, \\  13\\right)$"
      ],
      "text/plain": [
       "⎛⎡3  5⎤         ⎞\n",
       "⎜⎢    ⎥, -13, 13⎟\n",
       "⎝⎣5  4⎦         ⎠"
      ]
     },
     "execution_count": 16,
     "metadata": {},
     "output_type": "execute_result"
    }
   ],
   "source": [
    "M9.minor_submatrix(0, 1), M9.minor(0, 1), M9.cofactor(0, 1) # 1st row and 2nd column"
   ]
  },
  {
   "cell_type": "code",
   "execution_count": 17,
   "metadata": {},
   "outputs": [
    {
     "data": {
      "text/latex": [
       "$\\displaystyle \\left( \\left[\\begin{matrix}3 & 4\\\\5 & 3\\end{matrix}\\right], \\  -11, \\  -11\\right)$"
      ],
      "text/plain": [
       "⎛⎡3  4⎤          ⎞\n",
       "⎜⎢    ⎥, -11, -11⎟\n",
       "⎝⎣5  3⎦          ⎠"
      ]
     },
     "execution_count": 17,
     "metadata": {},
     "output_type": "execute_result"
    }
   ],
   "source": [
    "M9.minor_submatrix(0, 2), M9.minor(0, 2), M9.cofactor(0, 2) # 1st row and 3rd column"
   ]
  },
  {
   "cell_type": "code",
   "execution_count": 18,
   "metadata": {},
   "outputs": [
    {
     "data": {
      "text/latex": [
       "$\\displaystyle \\left( \\left[\\begin{matrix}1 & 13 & -11\\\\5 & -11 & 2\\\\-7 & 4 & 1\\end{matrix}\\right], \\  \\left[\\begin{matrix}1 & 5 & -7\\\\13 & -11 & 4\\\\-11 & 2 & 1\\end{matrix}\\right]\\right)$"
      ],
      "text/plain": [
       "⎛⎡1   13   -11⎤  ⎡ 1    5   -7⎤⎞\n",
       "⎜⎢            ⎥  ⎢            ⎥⎟\n",
       "⎜⎢5   -11   2 ⎥, ⎢13   -11  4 ⎥⎟\n",
       "⎜⎢            ⎥  ⎢            ⎥⎟\n",
       "⎝⎣-7   4    1 ⎦  ⎣-11   2   1 ⎦⎠"
      ]
     },
     "execution_count": 18,
     "metadata": {},
     "output_type": "execute_result"
    }
   ],
   "source": [
    "M9.cofactor_matrix(), M9.adjugate() # adjugate matrix is the transpose of cofactor matrix"
   ]
  },
  {
   "cell_type": "markdown",
   "metadata": {},
   "source": [
    "#### Inverse by adjugate / determinant method"
   ]
  },
  {
   "cell_type": "code",
   "execution_count": 19,
   "metadata": {},
   "outputs": [
    {
     "data": {
      "text/latex": [
       "$\\displaystyle \\left[\\begin{matrix}- \\frac{1}{19} & - \\frac{5}{19} & \\frac{7}{19}\\\\- \\frac{13}{19} & \\frac{11}{19} & - \\frac{4}{19}\\\\\\frac{11}{19} & - \\frac{2}{19} & - \\frac{1}{19}\\end{matrix}\\right]$"
      ],
      "text/plain": [
       "⎡-1/19  -5/19  7/19 ⎤\n",
       "⎢                   ⎥\n",
       "⎢-13     11         ⎥\n",
       "⎢────    ──    -4/19⎥\n",
       "⎢ 19     19         ⎥\n",
       "⎢                   ⎥\n",
       "⎢ 11                ⎥\n",
       "⎢ ──    -2/19  -1/19⎥\n",
       "⎣ 19                ⎦"
      ]
     },
     "execution_count": 19,
     "metadata": {},
     "output_type": "execute_result"
    }
   ],
   "source": [
    "M9.adjugate() / M9.det()"
   ]
  },
  {
   "cell_type": "code",
   "execution_count": 20,
   "metadata": {},
   "outputs": [
    {
     "data": {
      "text/latex": [
       "$\\displaystyle \\left[\\begin{matrix}- \\frac{1}{19} & - \\frac{5}{19} & \\frac{7}{19}\\\\- \\frac{13}{19} & \\frac{11}{19} & - \\frac{4}{19}\\\\\\frac{11}{19} & - \\frac{2}{19} & - \\frac{1}{19}\\end{matrix}\\right]$"
      ],
      "text/plain": [
       "⎡-1/19  -5/19  7/19 ⎤\n",
       "⎢                   ⎥\n",
       "⎢-13     11         ⎥\n",
       "⎢────    ──    -4/19⎥\n",
       "⎢ 19     19         ⎥\n",
       "⎢                   ⎥\n",
       "⎢ 11                ⎥\n",
       "⎢ ──    -2/19  -1/19⎥\n",
       "⎣ 19                ⎦"
      ]
     },
     "execution_count": 20,
     "metadata": {},
     "output_type": "execute_result"
    }
   ],
   "source": [
    "M9.inv() # same value as above"
   ]
  },
  {
   "cell_type": "markdown",
   "metadata": {},
   "source": [
    "### Charecteristic polynomial"
   ]
  },
  {
   "cell_type": "code",
   "execution_count": 21,
   "metadata": {},
   "outputs": [
    {
     "data": {
      "text/latex": [
       "$\\displaystyle \\left( \\left[\\begin{matrix}1 & 1 & 3\\\\3 & 4 & 5\\\\5 & 3 & 4\\end{matrix}\\right], \\  \\lambda^{3} - 9 \\lambda^{2} - 9 \\lambda + 19\\right)$"
      ],
      "text/plain": [
       "⎛⎡1  1  3⎤                      ⎞\n",
       "⎜⎢       ⎥   3      2           ⎟\n",
       "⎜⎢3  4  5⎥, λ  - 9⋅λ  - 9⋅λ + 19⎟\n",
       "⎜⎢       ⎥                      ⎟\n",
       "⎝⎣5  3  4⎦                      ⎠"
      ]
     },
     "execution_count": 21,
     "metadata": {},
     "output_type": "execute_result"
    }
   ],
   "source": [
    "from sympy import Matrix\n",
    "from sympy.abc import x, y\n",
    "M9, M9.charpoly().as_expr()"
   ]
  },
  {
   "cell_type": "code",
   "execution_count": 22,
   "metadata": {},
   "outputs": [
    {
     "data": {
      "text/latex": [
       "$\\displaystyle \\left( \\left[\\begin{matrix}2 & 3\\\\5 & 6\\end{matrix}\\right], \\  \\lambda^{2} - 8 \\lambda - 3\\right)$"
      ],
      "text/plain": [
       "⎛⎡2  3⎤   2          ⎞\n",
       "⎜⎢    ⎥, λ  - 8⋅λ - 3⎟\n",
       "⎝⎣5  6⎦              ⎠"
      ]
     },
     "execution_count": 22,
     "metadata": {},
     "output_type": "execute_result"
    }
   ],
   "source": [
    "M10 = Matrix([[2, 3], [5, 6]])\n",
    "M10, M10.charpoly().as_expr()"
   ]
  },
  {
   "cell_type": "code",
   "execution_count": 23,
   "metadata": {},
   "outputs": [
    {
     "data": {
      "text/latex": [
       "$\\displaystyle \\left[ 4 - \\sqrt{19}, \\  4 + \\sqrt{19}\\right]$"
      ],
      "text/plain": [
       "[4 - √19, 4 + √19]"
      ]
     },
     "execution_count": 23,
     "metadata": {},
     "output_type": "execute_result"
    }
   ],
   "source": [
    "solve(M10.charpoly().as_expr()) # finding roots of charecteristic equation"
   ]
  },
  {
   "cell_type": "markdown",
   "metadata": {},
   "source": [
    "### Eigenvalues and eigenvectors"
   ]
  },
  {
   "cell_type": "code",
   "execution_count": 24,
   "metadata": {},
   "outputs": [
    {
     "data": {
      "text/latex": [
       "$\\displaystyle \\left( \\left[\\begin{matrix}2 & 3\\\\5 & 6\\end{matrix}\\right], \\  \\left[ 4 + \\sqrt{19}, \\  4 - \\sqrt{19}\\right]\\right)$"
      ],
      "text/plain": [
       "⎛⎡2  3⎤                    ⎞\n",
       "⎜⎢    ⎥, [4 + √19, 4 - √19]⎟\n",
       "⎝⎣5  6⎦                    ⎠"
      ]
     },
     "execution_count": 24,
     "metadata": {},
     "output_type": "execute_result"
    }
   ],
   "source": [
    "M10, M10.eigenvals(multiple=True)"
   ]
  },
  {
   "cell_type": "code",
   "execution_count": 25,
   "metadata": {},
   "outputs": [
    {
     "data": {
      "text/latex": [
       "$\\displaystyle \\left( \\left[ \\left( 4 - \\sqrt{19}, \\  1, \\  \\left[ \\left[\\begin{matrix}- \\frac{\\sqrt{19}}{5} - \\frac{2}{5}\\\\1\\end{matrix}\\right]\\right]\\right), \\  \\left( 4 + \\sqrt{19}, \\  1, \\  \\left[ \\left[\\begin{matrix}- \\frac{2}{5} + \\frac{\\sqrt{19}}{5}\\\\1\\end{matrix}\\right]\\right]\\right)\\right],\\right)$"
      ],
      "text/plain": [
       "⎛⎡⎛            ⎡⎡  √19   2⎤⎤⎞  ⎛            ⎡⎡  2   √19⎤⎤⎞⎤ ⎞\n",
       "⎜⎢⎜            ⎢⎢- ─── - ─⎥⎥⎟  ⎜            ⎢⎢- ─ + ───⎥⎥⎟⎥ ⎟\n",
       "⎜⎢⎜4 - √19, 1, ⎢⎢   5    5⎥⎥⎟, ⎜4 + √19, 1, ⎢⎢  5    5 ⎥⎥⎟⎥,⎟\n",
       "⎜⎢⎜            ⎢⎢         ⎥⎥⎟  ⎜            ⎢⎢         ⎥⎥⎟⎥ ⎟\n",
       "⎝⎣⎝            ⎣⎣    1    ⎦⎦⎠  ⎝            ⎣⎣    1    ⎦⎦⎠⎦ ⎠"
      ]
     },
     "execution_count": 25,
     "metadata": {},
     "output_type": "execute_result"
    }
   ],
   "source": [
    "M10.eigenvects(), # [(eigenval, multiplicity, eigenspace), …]"
   ]
  },
  {
   "cell_type": "code",
   "execution_count": null,
   "metadata": {},
   "outputs": [],
   "source": []
  },
  {
   "cell_type": "code",
   "execution_count": null,
   "metadata": {},
   "outputs": [],
   "source": []
  },
  {
   "cell_type": "code",
   "execution_count": null,
   "metadata": {},
   "outputs": [],
   "source": []
  },
  {
   "cell_type": "markdown",
   "metadata": {},
   "source": [
    "## You can also do stuff with symbols in the matrices"
   ]
  },
  {
   "cell_type": "markdown",
   "metadata": {},
   "source": [
    "#### Generic expression for eigenvalues of 2x2 matrix"
   ]
  },
  {
   "cell_type": "code",
   "execution_count": 26,
   "metadata": {},
   "outputs": [
    {
     "data": {
      "text/latex": [
       "$\\displaystyle \\left( \\left[\\begin{matrix}a & b\\\\c & d\\end{matrix}\\right], \\  a d - b c + \\lambda^{2} + \\lambda \\left(- a - d\\right)\\right)$"
      ],
      "text/plain": [
       "⎛⎡a  b⎤               2             ⎞\n",
       "⎜⎢    ⎥, a⋅d - b⋅c + λ  + λ⋅(-a - d)⎟\n",
       "⎝⎣c  d⎦                             ⎠"
      ]
     },
     "execution_count": 26,
     "metadata": {},
     "output_type": "execute_result"
    }
   ],
   "source": [
    "x, a, b, c, d = symbols('x a b c d')\n",
    "M11 = Matrix([[a, b], [c, d]])\n",
    "M11, M11.charpoly().as_expr()"
   ]
  },
  {
   "cell_type": "code",
   "execution_count": 27,
   "metadata": {},
   "outputs": [
    {
     "data": {
      "text/plain": [
       "'a*d - b*c + lambda**2 + lambda*(-a - d)'"
      ]
     },
     "execution_count": 27,
     "metadata": {},
     "output_type": "execute_result"
    }
   ],
   "source": [
    "str(M11.charpoly().as_expr())"
   ]
  },
  {
   "cell_type": "code",
   "execution_count": 28,
   "metadata": {},
   "outputs": [
    {
     "data": {
      "text/latex": [
       "$\\displaystyle \\left[ \\frac{a}{2} + \\frac{d}{2} - \\frac{\\sqrt{a^{2} - 2 a d + 4 b c + d^{2}}}{2}, \\  \\frac{a}{2} + \\frac{d}{2} + \\frac{\\sqrt{a^{2} - 2 a d + 4 b c + d^{2}}}{2}\\right]$"
      ],
      "text/plain": [
       "⎡           _________________________             _________________________⎤\n",
       "⎢          ╱  2                    2             ╱  2                    2 ⎥\n",
       "⎢a   d   ╲╱  a  - 2⋅a⋅d + 4⋅b⋅c + d    a   d   ╲╱  a  - 2⋅a⋅d + 4⋅b⋅c + d  ⎥\n",
       "⎢─ + ─ - ────────────────────────────, ─ + ─ + ────────────────────────────⎥\n",
       "⎣2   2                2                2   2                2              ⎦"
      ]
     },
     "execution_count": 28,
     "metadata": {},
     "output_type": "execute_result"
    }
   ],
   "source": [
    "solve('a*d - b*c + x**2 + x*(-a - d)', symbols=['x'], exclude = ['a', 'b', 'c', 'd']) # solving for x"
   ]
  },
  {
   "cell_type": "markdown",
   "metadata": {},
   "source": [
    "### Solved problems from previous quizzes"
   ]
  },
  {
   "cell_type": "markdown",
   "metadata": {},
   "source": [
    "#### Eigenvectors for ..."
   ]
  },
  {
   "cell_type": "code",
   "execution_count": 29,
   "metadata": {},
   "outputs": [
    {
     "data": {
      "text/latex": [
       "$\\displaystyle \\left( \\left[\\begin{matrix}0 & 0 & a\\\\0 & 0 & 0\\\\0 & 0 & 0\\end{matrix}\\right], \\  \\left[ \\left( 0, \\  3, \\  \\left[ \\left[\\begin{matrix}1\\\\0\\\\0\\end{matrix}\\right], \\  \\left[\\begin{matrix}0\\\\1\\\\0\\end{matrix}\\right]\\right]\\right)\\right]\\right)$"
      ],
      "text/plain": [
       "⎛⎡0  0  a⎤  ⎡⎛      ⎡⎡1⎤  ⎡0⎤⎤⎞⎤⎞\n",
       "⎜⎢       ⎥  ⎢⎜      ⎢⎢ ⎥  ⎢ ⎥⎥⎟⎥⎟\n",
       "⎜⎢0  0  0⎥, ⎢⎜0, 3, ⎢⎢0⎥, ⎢1⎥⎥⎟⎥⎟\n",
       "⎜⎢       ⎥  ⎢⎜      ⎢⎢ ⎥  ⎢ ⎥⎥⎟⎥⎟\n",
       "⎝⎣0  0  0⎦  ⎣⎝      ⎣⎣0⎦  ⎣0⎦⎦⎠⎦⎠"
      ]
     },
     "execution_count": 29,
     "metadata": {},
     "output_type": "execute_result"
    }
   ],
   "source": [
    "a = symbols('a')\n",
    "M12 = Matrix([[0, 0, a], [0, 0, 0], [0, 0, 0]])\n",
    "M12, M12.eigenvects()"
   ]
  },
  {
   "cell_type": "markdown",
   "metadata": {},
   "source": [
    "#### Eigenvalues for ..."
   ]
  },
  {
   "cell_type": "code",
   "execution_count": 30,
   "metadata": {},
   "outputs": [
    {
     "data": {
      "text/latex": [
       "$\\displaystyle \\left( \\left[\\begin{matrix}5 & 3\\\\2 & 9\\end{matrix}\\right], \\  \\left[ \\sqrt{10} + 7, \\  7 - \\sqrt{10}\\right]\\right)$"
      ],
      "text/plain": [
       "⎛⎡5  3⎤                    ⎞\n",
       "⎜⎢    ⎥, [√10 + 7, 7 - √10]⎟\n",
       "⎝⎣2  9⎦                    ⎠"
      ]
     },
     "execution_count": 30,
     "metadata": {},
     "output_type": "execute_result"
    }
   ],
   "source": [
    "M13 = Matrix([[5, 3], [2, 9]])\n",
    "M13, M13.eigenvals(multiple=True)"
   ]
  },
  {
   "cell_type": "markdown",
   "metadata": {},
   "source": [
    "#### Finding ..."
   ]
  },
  {
   "cell_type": "code",
   "execution_count": 31,
   "metadata": {},
   "outputs": [
    {
     "data": {
      "text/latex": [
       "$\\displaystyle \\left[\\begin{matrix}10 & 0\\\\0 & 10\\end{matrix}\\right]$"
      ],
      "text/plain": [
       "⎡10  0 ⎤\n",
       "⎢      ⎥\n",
       "⎣0   10⎦"
      ]
     },
     "execution_count": 31,
     "metadata": {},
     "output_type": "execute_result"
    }
   ],
   "source": [
    "M14 = Matrix([[3, 2], [1, 4]])\n",
    "M14 * M14.adjugate()"
   ]
  },
  {
   "cell_type": "markdown",
   "metadata": {},
   "source": [
    "#### Trace of"
   ]
  },
  {
   "cell_type": "code",
   "execution_count": 32,
   "metadata": {},
   "outputs": [
    {
     "data": {
      "text/latex": [
       "$\\displaystyle \\left( \\left[\\begin{matrix}1 & 0 & 4\\\\2 & 0 & 4\\\\3 & 6 & 9\\end{matrix}\\right], \\  10\\right)$"
      ],
      "text/plain": [
       "⎛⎡1  0  4⎤    ⎞\n",
       "⎜⎢       ⎥    ⎟\n",
       "⎜⎢2  0  4⎥, 10⎟\n",
       "⎜⎢       ⎥    ⎟\n",
       "⎝⎣3  6  9⎦    ⎠"
      ]
     },
     "execution_count": 32,
     "metadata": {},
     "output_type": "execute_result"
    }
   ],
   "source": [
    "M15 = Matrix([[1, 0, 4], [2, 0, 4], [3, 6, 9]])\n",
    "M15, M15.trace()"
   ]
  },
  {
   "cell_type": "markdown",
   "metadata": {},
   "source": [
    "#### Eigenvectors for ..."
   ]
  },
  {
   "cell_type": "code",
   "execution_count": 33,
   "metadata": {},
   "outputs": [
    {
     "data": {
      "text/latex": [
       "$\\displaystyle \\left( \\left[\\begin{matrix}a & - a + k\\\\- a + k & a\\end{matrix}\\right], \\  \\left[ k, \\  2 a - k\\right], \\  \\left[ \\left( k, \\  1, \\  \\left[ \\left[\\begin{matrix}1\\\\1\\end{matrix}\\right]\\right]\\right), \\  \\left( 2 a - k, \\  1, \\  \\left[ \\left[\\begin{matrix}-1\\\\1\\end{matrix}\\right]\\right]\\right)\\right]\\right)$"
      ],
      "text/plain": [
       "⎛⎡  a     -a + k⎤                ⎡⎛      ⎡⎡1⎤⎤⎞  ⎛            ⎡⎡-1⎤⎤⎞⎤⎞\n",
       "⎜⎢              ⎥, [k, 2⋅a - k], ⎢⎜k, 1, ⎢⎢ ⎥⎥⎟, ⎜2⋅a - k, 1, ⎢⎢  ⎥⎥⎟⎥⎟\n",
       "⎝⎣-a + k    a   ⎦                ⎣⎝      ⎣⎣1⎦⎦⎠  ⎝            ⎣⎣1 ⎦⎦⎠⎦⎠"
      ]
     },
     "execution_count": 33,
     "metadata": {},
     "output_type": "execute_result"
    }
   ],
   "source": [
    "x, a, k = symbols('x a k')\n",
    "M16 = Matrix([[a, k-a], [k-a, a]])\n",
    "M16, M16.eigenvals(multiple=True), M16.eigenvects()"
   ]
  },
  {
   "cell_type": "markdown",
   "metadata": {},
   "source": [
    "#### Value of a for det = 0"
   ]
  },
  {
   "cell_type": "code",
   "execution_count": 34,
   "metadata": {},
   "outputs": [
    {
     "data": {
      "text/latex": [
       "$\\displaystyle \\left( \\left[\\begin{matrix}2 & 3 & 5\\\\1 & a & 2\\\\0 & 1 & -1\\end{matrix}\\right], \\  4 - 2 a\\right)$"
      ],
      "text/plain": [
       "⎛⎡2  3  5 ⎤         ⎞\n",
       "⎜⎢        ⎥         ⎟\n",
       "⎜⎢1  a  2 ⎥, 4 - 2⋅a⎟\n",
       "⎜⎢        ⎥         ⎟\n",
       "⎝⎣0  1  -1⎦         ⎠"
      ]
     },
     "execution_count": 34,
     "metadata": {},
     "output_type": "execute_result"
    }
   ],
   "source": [
    "a = symbols('a')\n",
    "M17 = Matrix([[2, 3, 5], [1, a, 2], [0, 1, -1]])\n",
    "M17, M17.det()"
   ]
  },
  {
   "cell_type": "code",
   "execution_count": null,
   "metadata": {},
   "outputs": [],
   "source": []
  }
 ],
 "metadata": {
  "kernelspec": {
   "display_name": "Python 3 (ipykernel)",
   "language": "python",
   "name": "python3"
  },
  "language_info": {
   "codemirror_mode": {
    "name": "ipython",
    "version": 3
   },
   "file_extension": ".py",
   "mimetype": "text/x-python",
   "name": "python",
   "nbconvert_exporter": "python",
   "pygments_lexer": "ipython3",
   "version": "3.11.0"
  },
  "vscode": {
   "interpreter": {
    "hash": "3ad933181bd8a04b432d3370b9dc3b0662ad032c4dfaa4e4f1596c548f763858"
   }
  }
 },
 "nbformat": 4,
 "nbformat_minor": 2
}
