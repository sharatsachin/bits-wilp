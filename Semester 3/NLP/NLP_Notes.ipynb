{
 "cells": [
  {
   "cell_type": "markdown",
   "metadata": {},
   "source": [
    "# Session 1 (Natural language understanding and generation)\n",
    "\n",
    "## What is NLP? \n",
    "- Field of computer science, artificial intelligence, and linguistics\n",
    "- Concerned with giving computers the ability to support and manipulate data in human language\n",
    "- Upto the 1980s, most NLP systems were based on complex sets of hand-written rules\n",
    "- 1990s: Machine learning algorithms started to be used successfully in NLP tasks\n",
    "- 2000s: Research focusing  on learning from data that has not been hand-annotated, increasingly using unsupervised and semi-supervised learning techniques\n",
    "- 2003: The word n-gram model was overperformed by a [multi-layer perceptron](https://dl.acm.org/doi/10.5555/944919.944966) by Yoshua Bengio with co-authors.\n",
    "- 2010s: Deep learning revolution in NLP, with neural network advances applied to language modeling, word embeddings, and many other areas. \n",
    "- [List of NLP tasks](https://en.wikipedia.org/wiki/Natural_language_processing#Common_NLP_tasks)\n",
    "- two components: \n",
    "    - Natural language understanding (NLU): ability to understand human language\n",
    "    - Natural language generation (NLG): ability to generate human language\n",
    "\n",
    "### NL Understanding\n",
    "There are different levels of understanding:\n",
    "- Morphological / Lexical level: understanding the meaning of words\n",
    "    - Morphology: study of the internal structure of words\n",
    "    - Lexicon: vocabulary of a language, the words and phrases that make up a language\n",
    "- Syntactic level: understanding the meaning of sentences\n",
    "    - It checks the grammar of a sentence\n",
    "- Semantic level: understanding the meaning of a text\n",
    "- Discourse level: understanding the meaning of a text in a given context\n",
    "- Pragmatic level: understanding the meaning of a text in a given context\n",
    "\n",
    "### NL Generation\n",
    "NLG will decide what to say and how to say it. It will generate a text that is grammatically correct and coherent. Two steps:\n",
    "- Deep planning: decide what to say\n",
    "- Syntactic generation: decide how to say it\n",
    "\n"
   ]
  },
  {
   "cell_type": "markdown",
   "metadata": {},
   "source": []
  }
 ],
 "metadata": {
  "language_info": {
   "name": "python"
  }
 },
 "nbformat": 4,
 "nbformat_minor": 2
}
