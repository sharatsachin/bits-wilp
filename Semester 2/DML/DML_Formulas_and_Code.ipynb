{
 "cells": [
  {
   "attachments": {},
   "cell_type": "markdown",
   "metadata": {},
   "source": [
    "## Data Management for Machine Learning Concepts and Code"
   ]
  },
  {
   "cell_type": "markdown",
   "metadata": {},
   "source": [
    "## Data Models \n",
    "\n",
    "- describes how data is represented in terms of attributes and relationships\n",
    "    - car can be represented by attributes such as make, model, year, color, etc, as well as owner, license plate, etc\n",
    "- applications built by layering one data model on top of another\n",
    "- many different data models exist, which\n",
    "    - embody different assumptions about the data\n",
    "    - are suited to different types of applications\n",
    "- selecting data model affects how data is stored, queried, and updated\n",
    "    - ways systems are built, problems that can be solved, and performance characteristics\n",
    "\n",
    "### Relational Data Model\n",
    "- Edgar Codd, 1970\n",
    "- data is represented as a collection of relations (tables)\n",
    "    - each relation has a set of named attributes (columns)\n",
    "    - each tuple (row) has a value for each attribute\n",
    "    - unordered, can shuffle rows and columns\n",
    "    - usually stored in csv or parquet format\n",
    "- normalization\n",
    "    - process of decomposing relations with anomalies into smaller, well-structured relations (1ND, 2NF, 3NF, BCNF etc)\n",
    "    - reduces redundancy and improves data integrity\n",
    "    - can be expensive to compute\n",
    "- databases built around relational model are called relational databases\n",
    "    - most common type of database\n",
    "    - SQL is the most common language for querying and manipulating data in relational databases\n",
    "    - examples: MySQL, PostgreSQL, SQLite, Oracle, Microsoft SQL Server, IBM DB2\n",
    "\n",
    "#### SQL \n",
    "- is a declarative language\n",
    "- user specifies what data they want, not how to get it\n",
    "    - tables, conditions, transformations such as joins and aggregations\n",
    "- query optimizer determines how to execute query\n",
    "    - which tables to read, which indexes to use, etc\n",
    "    - how to break query into smaller subqueries, order of operations, etc\n",
    "- generalized a lot but is still restrictive, needs a strict schema, schema changes are expensive\n",
    "\n",
    "#### NoSQL\n",
    "- non-relational databases\n",
    "- retroactively reinforced as \"not only SQL\"\n",
    "- data is stored in a variety of ways\n",
    "    - key-value / document stores\n",
    "        - targets use cases where data comes in self-contained documents\n",
    "        - single continuous string of data, encoded as JSON, XML, or similar format\n",
    "        - each document has a unique key that is used to retrieve it\n",
    "    - wide-column stores\n",
    "        - targets use cases where data is stored in sparse tables, with many columns\n",
    "        - each row has a unique key, but unlike key-value stores, each row can have different columns\n",
    "        - each column has a name and a value\n",
    "        - examples: Cassandra, HBase, BigTable\n",
    "    - graph databases\n",
    "        - targets use cases where data has complex relationships between data entities exist and are important\n",
    "\n",
    "\n"
   ]
  }
 ],
 "metadata": {
  "language_info": {
   "name": "python"
  },
  "orig_nbformat": 4
 },
 "nbformat": 4,
 "nbformat_minor": 2
}
